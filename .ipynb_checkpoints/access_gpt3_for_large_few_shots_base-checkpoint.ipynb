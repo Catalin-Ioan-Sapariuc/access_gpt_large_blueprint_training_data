{
 "cells": [
  {
   "cell_type": "code",
   "execution_count": 34,
   "id": "f81dc80e",
   "metadata": {},
   "outputs": [],
   "source": [
    "import openai\n",
    "import pandas as pd\n",
    "import numpy as np"
   ]
  },
  {
   "cell_type": "code",
   "execution_count": 70,
   "id": "f3ac5ed7",
   "metadata": {},
   "outputs": [],
   "source": [
    "engine='text-davinci-003'\n",
    "temperature=0.\n",
    "top_p=1.\n",
    "presence_penalty=0.\n",
    "max_tokens=800"
   ]
  },
  {
   "cell_type": "code",
   "execution_count": 35,
   "id": "df005f50",
   "metadata": {},
   "outputs": [],
   "source": [
    "df = pd.read_csv('blueprint-primer-general-and-specific.csv')"
   ]
  },
  {
   "cell_type": "code",
   "execution_count": 36,
   "id": "179b54ea",
   "metadata": {},
   "outputs": [
    {
     "data": {
      "text/html": [
       "<div>\n",
       "<style scoped>\n",
       "    .dataframe tbody tr th:only-of-type {\n",
       "        vertical-align: middle;\n",
       "    }\n",
       "\n",
       "    .dataframe tbody tr th {\n",
       "        vertical-align: top;\n",
       "    }\n",
       "\n",
       "    .dataframe thead th {\n",
       "        text-align: right;\n",
       "    }\n",
       "</style>\n",
       "<table border=\"1\" class=\"dataframe\">\n",
       "  <thead>\n",
       "    <tr style=\"text-align: right;\">\n",
       "      <th></th>\n",
       "      <th>prompt</th>\n",
       "      <th>completion</th>\n",
       "    </tr>\n",
       "  </thead>\n",
       "  <tbody>\n",
       "    <tr>\n",
       "      <th>0</th>\n",
       "      <td>What is blueprint?</td>\n",
       "      <td>\\n blueprint is a paradigm that lets you write...</td>\n",
       "    </tr>\n",
       "    <tr>\n",
       "      <th>1</th>\n",
       "      <td>Pre-requisites for building a project in bluep...</td>\n",
       "      <td>\\n 1. Have node.js 14+ and mongodb installed \\...</td>\n",
       "    </tr>\n",
       "    <tr>\n",
       "      <th>2</th>\n",
       "      <td>Create a new project:</td>\n",
       "      <td>\\n 1. npm i -g i -g bluelibs/x (installs the x...</td>\n",
       "    </tr>\n",
       "  </tbody>\n",
       "</table>\n",
       "</div>"
      ],
      "text/plain": [
       "                                              prompt  \\\n",
       "0                                 What is blueprint?   \n",
       "1  Pre-requisites for building a project in bluep...   \n",
       "2                              Create a new project:   \n",
       "\n",
       "                                          completion  \n",
       "0  \\n blueprint is a paradigm that lets you write...  \n",
       "1  \\n 1. Have node.js 14+ and mongodb installed \\...  \n",
       "2  \\n 1. npm i -g i -g bluelibs/x (installs the x...  "
      ]
     },
     "execution_count": 36,
     "metadata": {},
     "output_type": "execute_result"
    }
   ],
   "source": [
    "df.head(3)"
   ]
  },
  {
   "cell_type": "code",
   "execution_count": 37,
   "id": "137eb909",
   "metadata": {},
   "outputs": [],
   "source": [
    "df.replace(r'\\s+|\\\\n', ' ', regex=True, inplace=True)"
   ]
  },
  {
   "cell_type": "code",
   "execution_count": 38,
   "id": "1c57e72c",
   "metadata": {},
   "outputs": [
    {
     "data": {
      "text/html": [
       "<div>\n",
       "<style scoped>\n",
       "    .dataframe tbody tr th:only-of-type {\n",
       "        vertical-align: middle;\n",
       "    }\n",
       "\n",
       "    .dataframe tbody tr th {\n",
       "        vertical-align: top;\n",
       "    }\n",
       "\n",
       "    .dataframe thead th {\n",
       "        text-align: right;\n",
       "    }\n",
       "</style>\n",
       "<table border=\"1\" class=\"dataframe\">\n",
       "  <thead>\n",
       "    <tr style=\"text-align: right;\">\n",
       "      <th></th>\n",
       "      <th>prompt</th>\n",
       "      <th>completion</th>\n",
       "    </tr>\n",
       "  </thead>\n",
       "  <tbody>\n",
       "    <tr>\n",
       "      <th>0</th>\n",
       "      <td>What is blueprint?</td>\n",
       "      <td>blueprint is a paradigm that lets you write ...</td>\n",
       "    </tr>\n",
       "    <tr>\n",
       "      <th>1</th>\n",
       "      <td>Pre-requisites for building a project in bluep...</td>\n",
       "      <td>1. Have node.js 14+ and mongodb installed   ...</td>\n",
       "    </tr>\n",
       "    <tr>\n",
       "      <th>2</th>\n",
       "      <td>Create a new project:</td>\n",
       "      <td>1. npm i -g i -g bluelibs/x (installs the x ...</td>\n",
       "    </tr>\n",
       "  </tbody>\n",
       "</table>\n",
       "</div>"
      ],
      "text/plain": [
       "                                              prompt  \\\n",
       "0                                 What is blueprint?   \n",
       "1  Pre-requisites for building a project in bluep...   \n",
       "2                              Create a new project:   \n",
       "\n",
       "                                          completion  \n",
       "0    blueprint is a paradigm that lets you write ...  \n",
       "1    1. Have node.js 14+ and mongodb installed   ...  \n",
       "2    1. npm i -g i -g bluelibs/x (installs the x ...  "
      ]
     },
     "execution_count": 38,
     "metadata": {},
     "output_type": "execute_result"
    }
   ],
   "source": [
    "df.head(3)"
   ]
  },
  {
   "cell_type": "code",
   "execution_count": 39,
   "id": "9118b475",
   "metadata": {},
   "outputs": [],
   "source": [
    "def da_vinci_embed(text):\n",
    "    response = openai.Embedding.create(input=text,engine=\"text-similarity-davinci-001\")\n",
    "    curated_response = response.data[0][\"embedding\"]\n",
    "    return curated_response"
   ]
  },
  {
   "cell_type": "code",
   "execution_count": 40,
   "id": "a6a865e6",
   "metadata": {},
   "outputs": [],
   "source": [
    "def cosine_similarity(A,B):\n",
    "    return np.dot(A,B)/(np.linalg.norm(A)*np.linalg.norm(B))"
   ]
  },
  {
   "cell_type": "code",
   "execution_count": 41,
   "id": "8fff12d3",
   "metadata": {},
   "outputs": [
    {
     "name": "stdout",
     "output_type": "stream",
     "text": [
      "similarity of embed_a and embed_b is  0.8901407691900226\n",
      "similarity of embed_a and embed_c is 0.7418134726693121\n",
      "similarity of embed_b and embed_c is  0.7176010081373454\n"
     ]
    }
   ],
   "source": [
    "embed_a = da_vinci_embed(\"I am a great guy\")\n",
    "embed_b = da_vinci_embed(\"I am a cool guy\")\n",
    "embed_c = da_vinci_embed(\"I am not so great after all\")\n",
    "print('similarity of embed_a and embed_b is ', cosine_similarity(embed_a, embed_b))\n",
    "print('similarity of embed_a and embed_c is' , cosine_similarity(embed_a, embed_c))\n",
    "print('similarity of embed_b and embed_c is ', cosine_similarity(embed_b, embed_c))"
   ]
  },
  {
   "cell_type": "code",
   "execution_count": 42,
   "id": "9b937ca8",
   "metadata": {},
   "outputs": [],
   "source": [
    "embed_p0 = da_vinci_embed(df['prompt'][0])"
   ]
  },
  {
   "cell_type": "code",
   "execution_count": 43,
   "id": "7c3b7f32",
   "metadata": {},
   "outputs": [
    {
     "name": "stdout",
     "output_type": "stream",
     "text": [
      "12288\n"
     ]
    }
   ],
   "source": [
    "print(len(embed_p0))"
   ]
  },
  {
   "cell_type": "code",
   "execution_count": 44,
   "id": "85c298eb",
   "metadata": {},
   "outputs": [],
   "source": [
    "df['prompt_vinci_embedding']=df['prompt'].map(da_vinci_embed)"
   ]
  },
  {
   "cell_type": "code",
   "execution_count": 45,
   "id": "33ba491a",
   "metadata": {},
   "outputs": [
    {
     "data": {
      "text/html": [
       "<div>\n",
       "<style scoped>\n",
       "    .dataframe tbody tr th:only-of-type {\n",
       "        vertical-align: middle;\n",
       "    }\n",
       "\n",
       "    .dataframe tbody tr th {\n",
       "        vertical-align: top;\n",
       "    }\n",
       "\n",
       "    .dataframe thead th {\n",
       "        text-align: right;\n",
       "    }\n",
       "</style>\n",
       "<table border=\"1\" class=\"dataframe\">\n",
       "  <thead>\n",
       "    <tr style=\"text-align: right;\">\n",
       "      <th></th>\n",
       "      <th>prompt</th>\n",
       "      <th>completion</th>\n",
       "      <th>prompt_vinci_embedding</th>\n",
       "    </tr>\n",
       "  </thead>\n",
       "  <tbody>\n",
       "    <tr>\n",
       "      <th>0</th>\n",
       "      <td>What is blueprint?</td>\n",
       "      <td>blueprint is a paradigm that lets you write ...</td>\n",
       "      <td>[-0.015625525265932083, 0.01474825944751501, -...</td>\n",
       "    </tr>\n",
       "    <tr>\n",
       "      <th>1</th>\n",
       "      <td>Pre-requisites for building a project in bluep...</td>\n",
       "      <td>1. Have node.js 14+ and mongodb installed   ...</td>\n",
       "      <td>[-0.013122739270329475, 0.006815686356276274, ...</td>\n",
       "    </tr>\n",
       "    <tr>\n",
       "      <th>2</th>\n",
       "      <td>Create a new project:</td>\n",
       "      <td>1. npm i -g i -g bluelibs/x (installs the x ...</td>\n",
       "      <td>[-0.011928696185350418, 0.010728203691542149, ...</td>\n",
       "    </tr>\n",
       "  </tbody>\n",
       "</table>\n",
       "</div>"
      ],
      "text/plain": [
       "                                              prompt  \\\n",
       "0                                 What is blueprint?   \n",
       "1  Pre-requisites for building a project in bluep...   \n",
       "2                              Create a new project:   \n",
       "\n",
       "                                          completion  \\\n",
       "0    blueprint is a paradigm that lets you write ...   \n",
       "1    1. Have node.js 14+ and mongodb installed   ...   \n",
       "2    1. npm i -g i -g bluelibs/x (installs the x ...   \n",
       "\n",
       "                              prompt_vinci_embedding  \n",
       "0  [-0.015625525265932083, 0.01474825944751501, -...  \n",
       "1  [-0.013122739270329475, 0.006815686356276274, ...  \n",
       "2  [-0.011928696185350418, 0.010728203691542149, ...  "
      ]
     },
     "execution_count": 45,
     "metadata": {},
     "output_type": "execute_result"
    }
   ],
   "source": [
    "df.head(3)"
   ]
  },
  {
   "cell_type": "code",
   "execution_count": 46,
   "id": "a81d25bc",
   "metadata": {},
   "outputs": [],
   "source": [
    "query = \"What is blueprint?\""
   ]
  },
  {
   "cell_type": "code",
   "execution_count": 48,
   "id": "c3d6365e",
   "metadata": {},
   "outputs": [
    {
     "name": "stdout",
     "output_type": "stream",
     "text": [
      "7\n",
      "18 18\n"
     ]
    }
   ],
   "source": [
    "print(df.shape[0])\n",
    "print(len(query), len(df['prompt'][0]))"
   ]
  },
  {
   "cell_type": "code",
   "execution_count": 49,
   "id": "8f014b52",
   "metadata": {},
   "outputs": [],
   "source": [
    "query_embed = da_vinci_embed(query)"
   ]
  },
  {
   "cell_type": "code",
   "execution_count": 50,
   "id": "a1f39210",
   "metadata": {},
   "outputs": [],
   "source": [
    "df['query_similarity']=df.apply(lambda x: cosine_similarity(x['prompt_vinci_embedding'], query_embed), axis=1)"
   ]
  },
  {
   "cell_type": "code",
   "execution_count": 51,
   "id": "b12c318e",
   "metadata": {},
   "outputs": [
    {
     "data": {
      "text/html": [
       "<div>\n",
       "<style scoped>\n",
       "    .dataframe tbody tr th:only-of-type {\n",
       "        vertical-align: middle;\n",
       "    }\n",
       "\n",
       "    .dataframe tbody tr th {\n",
       "        vertical-align: top;\n",
       "    }\n",
       "\n",
       "    .dataframe thead th {\n",
       "        text-align: right;\n",
       "    }\n",
       "</style>\n",
       "<table border=\"1\" class=\"dataframe\">\n",
       "  <thead>\n",
       "    <tr style=\"text-align: right;\">\n",
       "      <th></th>\n",
       "      <th>prompt</th>\n",
       "      <th>completion</th>\n",
       "      <th>prompt_vinci_embedding</th>\n",
       "      <th>query_similarity</th>\n",
       "    </tr>\n",
       "  </thead>\n",
       "  <tbody>\n",
       "    <tr>\n",
       "      <th>0</th>\n",
       "      <td>What is blueprint?</td>\n",
       "      <td>blueprint is a paradigm that lets you write ...</td>\n",
       "      <td>[-0.015625525265932083, 0.01474825944751501, -...</td>\n",
       "      <td>1.00000</td>\n",
       "    </tr>\n",
       "    <tr>\n",
       "      <th>1</th>\n",
       "      <td>Pre-requisites for building a project in bluep...</td>\n",
       "      <td>1. Have node.js 14+ and mongodb installed   ...</td>\n",
       "      <td>[-0.013122739270329475, 0.006815686356276274, ...</td>\n",
       "      <td>0.82407</td>\n",
       "    </tr>\n",
       "    <tr>\n",
       "      <th>2</th>\n",
       "      <td>Create a new project:</td>\n",
       "      <td>1. npm i -g i -g bluelibs/x (installs the x ...</td>\n",
       "      <td>[-0.011928696185350418, 0.010728203691542149, ...</td>\n",
       "      <td>0.75216</td>\n",
       "    </tr>\n",
       "  </tbody>\n",
       "</table>\n",
       "</div>"
      ],
      "text/plain": [
       "                                              prompt  \\\n",
       "0                                 What is blueprint?   \n",
       "1  Pre-requisites for building a project in bluep...   \n",
       "2                              Create a new project:   \n",
       "\n",
       "                                          completion  \\\n",
       "0    blueprint is a paradigm that lets you write ...   \n",
       "1    1. Have node.js 14+ and mongodb installed   ...   \n",
       "2    1. npm i -g i -g bluelibs/x (installs the x ...   \n",
       "\n",
       "                              prompt_vinci_embedding  query_similarity  \n",
       "0  [-0.015625525265932083, 0.01474825944751501, -...           1.00000  \n",
       "1  [-0.013122739270329475, 0.006815686356276274, ...           0.82407  \n",
       "2  [-0.011928696185350418, 0.010728203691542149, ...           0.75216  "
      ]
     },
     "execution_count": 51,
     "metadata": {},
     "output_type": "execute_result"
    }
   ],
   "source": [
    "df.head(3)"
   ]
  },
  {
   "cell_type": "code",
   "execution_count": 52,
   "id": "cc25f555",
   "metadata": {},
   "outputs": [],
   "source": [
    "dfs = df.sort_values(by='query_similarity',ascending=False)"
   ]
  },
  {
   "cell_type": "code",
   "execution_count": 53,
   "id": "075bf8fa",
   "metadata": {},
   "outputs": [
    {
     "data": {
      "text/html": [
       "<div>\n",
       "<style scoped>\n",
       "    .dataframe tbody tr th:only-of-type {\n",
       "        vertical-align: middle;\n",
       "    }\n",
       "\n",
       "    .dataframe tbody tr th {\n",
       "        vertical-align: top;\n",
       "    }\n",
       "\n",
       "    .dataframe thead th {\n",
       "        text-align: right;\n",
       "    }\n",
       "</style>\n",
       "<table border=\"1\" class=\"dataframe\">\n",
       "  <thead>\n",
       "    <tr style=\"text-align: right;\">\n",
       "      <th></th>\n",
       "      <th>prompt</th>\n",
       "      <th>completion</th>\n",
       "      <th>prompt_vinci_embedding</th>\n",
       "      <th>query_similarity</th>\n",
       "    </tr>\n",
       "  </thead>\n",
       "  <tbody>\n",
       "    <tr>\n",
       "      <th>0</th>\n",
       "      <td>What is blueprint?</td>\n",
       "      <td>blueprint is a paradigm that lets you write ...</td>\n",
       "      <td>[-0.015625525265932083, 0.01474825944751501, -...</td>\n",
       "      <td>1.000000</td>\n",
       "    </tr>\n",
       "    <tr>\n",
       "      <th>1</th>\n",
       "      <td>Pre-requisites for building a project in bluep...</td>\n",
       "      <td>1. Have node.js 14+ and mongodb installed   ...</td>\n",
       "      <td>[-0.013122739270329475, 0.006815686356276274, ...</td>\n",
       "      <td>0.824070</td>\n",
       "    </tr>\n",
       "    <tr>\n",
       "      <th>3</th>\n",
       "      <td>Create the basic structure of the project:</td>\n",
       "      <td>npm run blueprint:generate   This creates tw...</td>\n",
       "      <td>[-0.00999512430280447, 0.00793374888598919, -0...</td>\n",
       "      <td>0.764156</td>\n",
       "    </tr>\n",
       "    <tr>\n",
       "      <th>5</th>\n",
       "      <td>Generate the customized project:</td>\n",
       "      <td>npm run blueprint:generate</td>\n",
       "      <td>[-0.006621158681809902, 0.012187507003545761, ...</td>\n",
       "      <td>0.760701</td>\n",
       "    </tr>\n",
       "    <tr>\n",
       "      <th>2</th>\n",
       "      <td>Create a new project:</td>\n",
       "      <td>1. npm i -g i -g bluelibs/x (installs the x ...</td>\n",
       "      <td>[-0.011928696185350418, 0.010728203691542149, ...</td>\n",
       "      <td>0.752160</td>\n",
       "    </tr>\n",
       "  </tbody>\n",
       "</table>\n",
       "</div>"
      ],
      "text/plain": [
       "                                              prompt  \\\n",
       "0                                 What is blueprint?   \n",
       "1  Pre-requisites for building a project in bluep...   \n",
       "3         Create the basic structure of the project:   \n",
       "5                   Generate the customized project:   \n",
       "2                              Create a new project:   \n",
       "\n",
       "                                          completion  \\\n",
       "0    blueprint is a paradigm that lets you write ...   \n",
       "1    1. Have node.js 14+ and mongodb installed   ...   \n",
       "3    npm run blueprint:generate   This creates tw...   \n",
       "5                      npm run blueprint:generate      \n",
       "2    1. npm i -g i -g bluelibs/x (installs the x ...   \n",
       "\n",
       "                              prompt_vinci_embedding  query_similarity  \n",
       "0  [-0.015625525265932083, 0.01474825944751501, -...          1.000000  \n",
       "1  [-0.013122739270329475, 0.006815686356276274, ...          0.824070  \n",
       "3  [-0.00999512430280447, 0.00793374888598919, -0...          0.764156  \n",
       "5  [-0.006621158681809902, 0.012187507003545761, ...          0.760701  \n",
       "2  [-0.011928696185350418, 0.010728203691542149, ...          0.752160  "
      ]
     },
     "execution_count": 53,
     "metadata": {},
     "output_type": "execute_result"
    }
   ],
   "source": [
    "dfs.head(5)"
   ]
  },
  {
   "cell_type": "code",
   "execution_count": 65,
   "id": "f7e5cde7",
   "metadata": {},
   "outputs": [],
   "source": [
    "n=5;\n",
    "actual_prompt=''\n",
    "for i in range(n):\n",
    "    actual_prompt += 'input: '+ dfs['prompt'][i]+ ' output: ' + dfs['completion'][i]+' '+ ' \\n'\n",
    "actual_prompt += 'input: ' + query"
   ]
  },
  {
   "cell_type": "code",
   "execution_count": 66,
   "id": "89607772",
   "metadata": {},
   "outputs": [
    {
     "name": "stdout",
     "output_type": "stream",
     "text": [
      "1649\n"
     ]
    }
   ],
   "source": [
    "print(len(actual_prompt))"
   ]
  },
  {
   "cell_type": "code",
   "execution_count": 67,
   "id": "4532b214",
   "metadata": {},
   "outputs": [],
   "source": [
    "if (len(actual_prompt) > 10000):\n",
    "    print('warning: you are reaching the max allowed number of tokens since len(actual_prompt)= ', len(actual_prompt))"
   ]
  },
  {
   "cell_type": "code",
   "execution_count": 69,
   "id": "e4894958",
   "metadata": {},
   "outputs": [
    {
     "name": "stdout",
     "output_type": "stream",
     "text": [
      "atedAt\", type: fields.types.DATE, defaultValue: new Date(), }), ], })     \n",
      "input: What is blueprint?\n"
     ]
    }
   ],
   "source": [
    "print(actual_prompt[-100:])"
   ]
  },
  {
   "cell_type": "code",
   "execution_count": 73,
   "id": "bd5f2f67",
   "metadata": {},
   "outputs": [],
   "source": [
    "response = openai.Completion.create(engine=engine, prompt= actual_prompt, max_tokens= max_tokens,\n",
    "           temperature=temperature, top_p=top_p, presence_penalty=presence_penalty, n=1)"
   ]
  },
  {
   "cell_type": "code",
   "execution_count": 74,
   "id": "5def7cd4",
   "metadata": {},
   "outputs": [
    {
     "name": "stdout",
     "output_type": "stream",
     "text": [
      "The GPT 3 engine responds with:   output: Blueprint is a paradigm that lets you write schema code and it can generate code while at the same time giving you the ability to add features, modify code and also support additional functionalities. Because Blueprint outputs an X-Framework compatible project, it's important that you have you are up to date with the X-Framework basics.\n"
     ]
    }
   ],
   "source": [
    "print('The GPT 3 engine responds with: ', response['choices'][0]['text']) "
   ]
  },
  {
   "cell_type": "code",
   "execution_count": null,
   "id": "b7d1840e",
   "metadata": {},
   "outputs": [],
   "source": []
  }
 ],
 "metadata": {
  "kernelspec": {
   "display_name": "Python 3 (ipykernel)",
   "language": "python",
   "name": "python3"
  },
  "language_info": {
   "codemirror_mode": {
    "name": "ipython",
    "version": 3
   },
   "file_extension": ".py",
   "mimetype": "text/x-python",
   "name": "python",
   "nbconvert_exporter": "python",
   "pygments_lexer": "ipython3",
   "version": "3.10.8"
  }
 },
 "nbformat": 4,
 "nbformat_minor": 5
}
